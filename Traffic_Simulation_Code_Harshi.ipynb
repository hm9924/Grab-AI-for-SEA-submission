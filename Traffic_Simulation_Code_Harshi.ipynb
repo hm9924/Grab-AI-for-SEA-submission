{
 "cells": [
  {
   "cell_type": "code",
   "execution_count": 70,
   "metadata": {},
   "outputs": [],
   "source": [
    "## Importing the base libraries\n",
    "\n",
    "import pandas as pd\n",
    "import numpy as np\n",
    "import datetime\n",
    "import itertools\n",
    "\n",
    "##Importing the libraries requried for plot\n",
    "import matplotlib.pyplot as plt\n",
    "%matplotlib inline\n",
    "import seaborn as sns\n",
    "#Importing libraries for Network building and Geohash calibration\n",
    "import networkx as nx\n",
    "import pygeohash as gh\n",
    "\n",
    "##Importing libraries for regression and time-series model\n",
    "from statsmodels.graphics.tsaplots import plot_acf\n",
    "from sklearn.tree import DecisionTreeRegressor\n",
    "from sklearn.metrics import mean_squared_error\n",
    "from statsmodels.tsa.ar_model import AR\n",
    "from sklearn.metrics import mean_squared_error\n",
    "from sklearn.linear_model import LinearRegression\n",
    "from statsmodels.tsa.arima_model import ARIMA"
   ]
  },
  {
   "cell_type": "code",
   "execution_count": 168,
   "metadata": {},
   "outputs": [],
   "source": [
    "\n",
    "\n",
    "from warnings import simplefilter\n",
    "# ignore all future warnings\n",
    "simplefilter(action='ignore', category=FutureWarning)\n",
    "warnings.simplefilter('ignore')"
   ]
  },
  {
   "cell_type": "code",
   "execution_count": 160,
   "metadata": {},
   "outputs": [],
   "source": [
    "import warnings\n",
    "\n",
    "def fxn():\n",
    "    warnings.warn(\"deprecated\", DeprecationWarning)\n",
    "\n",
    "with warnings.catch_warnings():\n",
    "    warnings.simplefilter(\"ignore\")\n",
    "    fxn()"
   ]
  },
  {
   "cell_type": "markdown",
   "metadata": {},
   "source": [
    "#from tf.keras.models import Sequential  #This does not work!\n",
    "import tensorflow as tf\n",
    "from tensorflow.python.keras.models import Sequential\n",
    "from tensorflow.python.keras.layers import Input, Dense, GRU, Embedding\n",
    "from tensorflow.python.keras.optimizers import RMSprop\n",
    "from tensorflow.python.keras.callbacks import EarlyStopping, ModelCheckpoint, TensorBoard, ReduceLROnPlateau"
   ]
  },
  {
   "cell_type": "code",
   "execution_count": 2,
   "metadata": {},
   "outputs": [],
   "source": [
    "df_training = pd.read_csv('training.csv')"
   ]
  },
  {
   "cell_type": "code",
   "execution_count": 165,
   "metadata": {},
   "outputs": [],
   "source": [
    "day_traffic = df_training.groupby(['day'])['demand'].agg({'cum_demand':'sum'})\n",
    "day_traffic.reset_index(inplace = True)"
   ]
  },
  {
   "cell_type": "code",
   "execution_count": 5,
   "metadata": {},
   "outputs": [
    {
     "data": {
      "text/plain": [
       "array(['0:0', '0:15', '0:30', '0:45', '10:0', '10:15', '10:30', '10:45',\n",
       "       '11:0', '11:15', '11:30', '11:45', '12:0', '12:15', '12:30',\n",
       "       '12:45', '13:0', '13:15', '13:30', '13:45', '14:0', '14:15',\n",
       "       '14:30', '14:45', '15:0', '15:15', '15:30', '15:45', '16:0',\n",
       "       '16:15', '16:30', '16:45', '17:0', '17:15', '17:30', '17:45',\n",
       "       '18:0', '18:15', '18:30', '18:45', '19:0', '19:15', '19:30',\n",
       "       '19:45', '1:0', '1:15', '1:30', '1:45', '20:0', '20:15', '20:30',\n",
       "       '20:45', '21:0', '21:15', '21:30', '21:45', '22:0', '22:15',\n",
       "       '22:30', '22:45', '23:0', '23:15', '23:30', '23:45', '2:0', '2:15',\n",
       "       '2:30', '2:45', '3:0', '3:15', '3:30', '3:45', '4:0', '4:15',\n",
       "       '4:30', '4:45', '5:0', '5:15', '5:30', '5:45', '6:0', '6:15',\n",
       "       '6:30', '6:45', '7:0', '7:15', '7:30', '7:45', '8:0', '8:15',\n",
       "       '8:30', '8:45', '9:0', '9:15', '9:30', '9:45'], dtype=object)"
      ]
     },
     "execution_count": 5,
     "metadata": {},
     "output_type": "execute_result"
    }
   ],
   "source": [
    "np.sort(df_training['timestamp'].unique())"
   ]
  },
  {
   "cell_type": "markdown",
   "metadata": {},
   "source": [
    "### Plotting aggregated demand graph - for office to & fro traffic"
   ]
  },
  {
   "cell_type": "code",
   "execution_count": 6,
   "metadata": {},
   "outputs": [
    {
     "data": {
      "text/plain": [
       "<matplotlib.axes._subplots.AxesSubplot at 0x1c192beef0>"
      ]
     },
     "execution_count": 6,
     "metadata": {},
     "output_type": "execute_result"
    },
    {
     "data": {
      "image/png": "[encoded data removed]",
      "text/plain": [
       "<Figure size 432x288 with 1 Axes>"
      ]
     },
     "metadata": {
      "needs_background": "light"
     },
     "output_type": "display_data"
    }
   ],
   "source": [
    "sns.barplot(x = 'day',\n",
    "            y = 'cum_demand',\n",
    "            data  = day_traffic\n",
    "           )"
   ]
  },
  {
   "cell_type": "code",
   "execution_count": 7,
   "metadata": {},
   "outputs": [
    {
     "name": "stderr",
     "output_type": "stream",
     "text": [
      "/Users/harshil.parashar/anaconda3/lib/python3.7/site-packages/ipykernel_launcher.py:5: FutureWarning: using a dict on a Series for aggregation\n",
      "is deprecated and will be removed in a future version\n",
      "  \"\"\"\n"
     ]
    },
    {
     "data": {
      "text/plain": [
       "<matplotlib.axes._subplots.AxesSubplot at 0x1c19320438>"
      ]
     },
     "execution_count": 7,
     "metadata": {},
     "output_type": "execute_result"
    },
    {
     "data": {
      "image/png": "[encoded data removed]",
      "text/plain": [
       "<Figure size 432x288 with 1 Axes>"
      ]
     },
     "metadata": {
      "needs_background": "light"
     },
     "output_type": "display_data"
    }
   ],
   "source": [
    "## identifying weekend and weekday traffic\n",
    "office_going = ['8:0', '8:15','8:30', '8:45', '9:0', '9:15', '9:30', '9:45']\n",
    "office_returning = ['18:0', '18:15', '18:30', '18:45', '19:0', '19:15', '19:30','19:45']\n",
    "\n",
    "office_going_traffic = df_training[df_training['timestamp'].isin(office_going)].groupby(['day'])['demand'].agg({'cum_demand':'sum'})\n",
    "\n",
    "office_going_traffic.reset_index(inplace=True)\n",
    "\n",
    "sns.barplot(x = 'day',\n",
    "            y = 'cum_demand',\n",
    "            data  = office_going_traffic\n",
    "           )"
   ]
  },
  {
   "cell_type": "code",
   "execution_count": 8,
   "metadata": {},
   "outputs": [
    {
     "name": "stderr",
     "output_type": "stream",
     "text": [
      "/Users/harshil.parashar/anaconda3/lib/python3.7/site-packages/ipykernel_launcher.py:1: FutureWarning: using a dict on a Series for aggregation\n",
      "is deprecated and will be removed in a future version\n",
      "  \"\"\"Entry point for launching an IPython kernel.\n"
     ]
    },
    {
     "data": {
      "text/plain": [
       "<matplotlib.axes._subplots.AxesSubplot at 0x1c1954ab38>"
      ]
     },
     "execution_count": 8,
     "metadata": {},
     "output_type": "execute_result"
    },
    {
     "data": {
      "image/png": "[encoded data removed]",
      "text/plain": [
       "<Figure size 432x288 with 1 Axes>"
      ]
     },
     "metadata": {
      "needs_background": "light"
     },
     "output_type": "display_data"
    }
   ],
   "source": [
    "office_returning_traffic = df_training[df_training['timestamp'].isin(office_returning)].groupby(['day'])['demand'].agg({'cum_demand':'sum'})\n",
    "office_returning_traffic.reset_index(inplace=True)\n",
    "sns.barplot(x = 'day',\n",
    "            y = 'cum_demand',\n",
    "            data  = office_returning_traffic\n",
    "           )"
   ]
  },
  {
   "cell_type": "markdown",
   "metadata": {},
   "source": [
    "### Identifying a clear pattern in aggregate demand - repeating with a frequency of 6/7 days. Weekend and Weekdays can be identified"
   ]
  },
  {
   "cell_type": "code",
   "execution_count": 9,
   "metadata": {},
   "outputs": [],
   "source": [
    "weekend_arr__ = [5,6,12,13,19,20,26,27,33,34,40,41,47,48,54,55,61]\n",
    "df_training['is_weekend'] = df_training['day'].apply(lambda x: x in weekend_arr__)"
   ]
  },
  {
   "cell_type": "markdown",
   "metadata": {},
   "source": [
    "## Converting Geohash to lat-long"
   ]
  },
  {
   "cell_type": "code",
   "execution_count": 10,
   "metadata": {},
   "outputs": [],
   "source": [
    "df_training['lat'] = df_training['geohash6'].apply(lambda x: gh.decode_exactly(x)[0]).astype('float64')\n",
    "df_training['long'] = df_training['geohash6'].apply(lambda x: gh.decode_exactly(x)[1]).astype('float64')"
   ]
  },
  {
   "cell_type": "markdown",
   "metadata": {},
   "source": [
    "## Leveraging graph theory to identify the network structure"
   ]
  },
  {
   "cell_type": "code",
   "execution_count": 11,
   "metadata": {},
   "outputs": [],
   "source": [
    "geohash_list = df_training['geohash6'].unique()"
   ]
  },
  {
   "cell_type": "code",
   "execution_count": 12,
   "metadata": {},
   "outputs": [],
   "source": [
    "df = []\n",
    "\n",
    "for elem in geohash_list:\n",
    "    for other_elem in geohash_list:\n",
    "        d = {'from_geohash':elem, \n",
    "                 'to_geohash':other_elem, \n",
    "                 'distance':gh.geohash_approximate_distance(elem,other_elem)/1000}\n",
    "        df.append(d)\n",
    "\n",
    "df_temp = pd.DataFrame(df)"
   ]
  },
  {
   "cell_type": "code",
   "execution_count": 13,
   "metadata": {},
   "outputs": [
    {
     "data": {
      "text/plain": [
       "<matplotlib.axes._subplots.AxesSubplot at 0x1c1a25b860>"
      ]
     },
     "execution_count": 13,
     "metadata": {},
     "output_type": "execute_result"
    },
    {
     "data": {
      "image/png": "[encoded data removed]",
      "text/plain": [
       "<Figure size 432x288 with 1 Axes>"
      ]
     },
     "metadata": {
      "needs_background": "light"
     },
     "output_type": "display_data"
    }
   ],
   "source": [
    "df_temp = df_temp[df_temp['distance'] != 0.610]\n",
    "df_temp.distance.hist()"
   ]
  },
  {
   "cell_type": "code",
   "execution_count": 14,
   "metadata": {},
   "outputs": [
    {
     "data": {
      "text/plain": [
       "123.264    1118786\n",
       "19.545      611186\n",
       "3.803        34940\n",
       "Name: distance, dtype: int64"
      ]
     },
     "execution_count": 14,
     "metadata": {},
     "output_type": "execute_result"
    }
   ],
   "source": [
    "df_temp.distance.value_counts()"
   ]
  },
  {
   "cell_type": "markdown",
   "metadata": {},
   "source": [
    "#### The geohash are on 3 levels - at distance of 3.803, 19.545 and 123.264 km. Using graph theory we try and identify how the geohash at 3.803 kms are connected to one another"
   ]
  },
  {
   "cell_type": "code",
   "execution_count": 15,
   "metadata": {},
   "outputs": [],
   "source": [
    "df_temp_close = df_temp[df_temp['distance'] == 3.803]"
   ]
  },
  {
   "cell_type": "markdown",
   "metadata": {},
   "source": [
    "## Building a network of closely connected geohash"
   ]
  },
  {
   "cell_type": "code",
   "execution_count": 16,
   "metadata": {},
   "outputs": [],
   "source": [
    "list_from_nodes = df_temp_close.from_geohash.unique()\n",
    "edges = df_temp_close[['from_geohash','to_geohash']]"
   ]
  },
  {
   "cell_type": "code",
   "execution_count": 17,
   "metadata": {},
   "outputs": [],
   "source": [
    "G = nx.DiGraph()\n",
    "G.add_nodes_from(list_from_nodes)\n",
    "G = nx.from_pandas_edgelist(edges, 'from_geohash','to_geohash')"
   ]
  },
  {
   "cell_type": "code",
   "execution_count": 18,
   "metadata": {},
   "outputs": [
    {
     "name": "stderr",
     "output_type": "stream",
     "text": [
      "/Users/harshil.parashar/anaconda3/lib/python3.7/site-packages/networkx/drawing/nx_pylab.py:611: MatplotlibDeprecationWarning: isinstance(..., numbers.Number)\n",
      "  if cb.is_numlike(alpha):\n"
     ]
    },
    {
     "data": {
      "image/png": "[encoded data removed]",
      "text/plain": [
       "<Figure size 720x720 with 1 Axes>"
      ]
     },
     "metadata": {
      "needs_background": "light"
     },
     "output_type": "display_data"
    }
   ],
   "source": [
    "plt.figure(3, figsize=(10,10))\n",
    "pos = nx.spring_layout(G)\n",
    "nx.draw_networkx(G)\n",
    "\n",
    "plt.show()"
   ]
  },
  {
   "cell_type": "markdown",
   "metadata": {},
   "source": [
    "\n",
    "### From this network graph we can conclude that there are cluster of areas close to each other\n",
    "\n",
    "#### Expected from hash value data"
   ]
  },
  {
   "cell_type": "markdown",
   "metadata": {},
   "source": [
    "## Preparing data for time based models"
   ]
  },
  {
   "cell_type": "code",
   "execution_count": 19,
   "metadata": {},
   "outputs": [],
   "source": [
    "df_training['hour'] = df_training['timestamp'].apply(lambda x: x.split(':')[0]).astype('float64')\n",
    "df_training['min'] = df_training['timestamp'].apply(lambda x: x.split(':')[1]).astype('float64')"
   ]
  },
  {
   "cell_type": "code",
   "execution_count": 20,
   "metadata": {},
   "outputs": [],
   "source": [
    "df_training['day'] = df_training['day'].astype('float64')"
   ]
  },
  {
   "cell_type": "code",
   "execution_count": 21,
   "metadata": {},
   "outputs": [
    {
     "data": {
      "text/html": [
       "<div>\n",
       "<style scoped>\n",
       "    .dataframe tbody tr th:only-of-type {\n",
       "        vertical-align: middle;\n",
       "    }\n",
       "\n",
       "    .dataframe tbody tr th {\n",
       "        vertical-align: top;\n",
       "    }\n",
       "\n",
       "    .dataframe thead th {\n",
       "        text-align: right;\n",
       "    }\n",
       "</style>\n",
       "<table border=\"1\" class=\"dataframe\">\n",
       "  <thead>\n",
       "    <tr style=\"text-align: right;\">\n",
       "      <th></th>\n",
       "      <th>geohash6</th>\n",
       "      <th>day</th>\n",
       "      <th>timestamp</th>\n",
       "      <th>demand</th>\n",
       "      <th>is_weekend</th>\n",
       "      <th>lat</th>\n",
       "      <th>long</th>\n",
       "      <th>hour</th>\n",
       "      <th>min</th>\n",
       "    </tr>\n",
       "  </thead>\n",
       "  <tbody>\n",
       "    <tr>\n",
       "      <th>0</th>\n",
       "      <td>qp03wc</td>\n",
       "      <td>18.0</td>\n",
       "      <td>20:0</td>\n",
       "      <td>0.020072</td>\n",
       "      <td>False</td>\n",
       "      <td>-5.353088</td>\n",
       "      <td>90.653687</td>\n",
       "      <td>20.0</td>\n",
       "      <td>0.0</td>\n",
       "    </tr>\n",
       "    <tr>\n",
       "      <th>1</th>\n",
       "      <td>qp03pn</td>\n",
       "      <td>10.0</td>\n",
       "      <td>14:30</td>\n",
       "      <td>0.024721</td>\n",
       "      <td>False</td>\n",
       "      <td>-5.413513</td>\n",
       "      <td>90.664673</td>\n",
       "      <td>14.0</td>\n",
       "      <td>30.0</td>\n",
       "    </tr>\n",
       "    <tr>\n",
       "      <th>2</th>\n",
       "      <td>qp09sw</td>\n",
       "      <td>9.0</td>\n",
       "      <td>6:15</td>\n",
       "      <td>0.102821</td>\n",
       "      <td>False</td>\n",
       "      <td>-5.325623</td>\n",
       "      <td>90.906372</td>\n",
       "      <td>6.0</td>\n",
       "      <td>15.0</td>\n",
       "    </tr>\n",
       "    <tr>\n",
       "      <th>3</th>\n",
       "      <td>qp0991</td>\n",
       "      <td>32.0</td>\n",
       "      <td>5:0</td>\n",
       "      <td>0.088755</td>\n",
       "      <td>False</td>\n",
       "      <td>-5.353088</td>\n",
       "      <td>90.752563</td>\n",
       "      <td>5.0</td>\n",
       "      <td>0.0</td>\n",
       "    </tr>\n",
       "    <tr>\n",
       "      <th>4</th>\n",
       "      <td>qp090q</td>\n",
       "      <td>15.0</td>\n",
       "      <td>4:0</td>\n",
       "      <td>0.074468</td>\n",
       "      <td>False</td>\n",
       "      <td>-5.413513</td>\n",
       "      <td>90.719604</td>\n",
       "      <td>4.0</td>\n",
       "      <td>0.0</td>\n",
       "    </tr>\n",
       "  </tbody>\n",
       "</table>\n",
       "</div>"
      ],
      "text/plain": [
       "  geohash6   day timestamp    demand  is_weekend       lat       long  hour  \\\n",
       "0   qp03wc  18.0      20:0  0.020072       False -5.353088  90.653687  20.0   \n",
       "1   qp03pn  10.0     14:30  0.024721       False -5.413513  90.664673  14.0   \n",
       "2   qp09sw   9.0      6:15  0.102821       False -5.325623  90.906372   6.0   \n",
       "3   qp0991  32.0       5:0  0.088755       False -5.353088  90.752563   5.0   \n",
       "4   qp090q  15.0       4:0  0.074468       False -5.413513  90.719604   4.0   \n",
       "\n",
       "    min  \n",
       "0   0.0  \n",
       "1  30.0  \n",
       "2  15.0  \n",
       "3   0.0  \n",
       "4   0.0  "
      ]
     },
     "execution_count": 21,
     "metadata": {},
     "output_type": "execute_result"
    }
   ],
   "source": [
    "df_training.head()"
   ]
  },
  {
   "cell_type": "markdown",
   "metadata": {},
   "source": [
    "df_training['date_time_2'] = df_training['day'].apply(lambda x: date_base+ timedelta(days = x))\n",
    "df_training['date_time_2'] = df_training[['date_time_2','hour']].apply(lambda x: x.date_time_2 + \n",
    "                                                                         timedelta(hours = x.hour), axis = 1)\n",
    "df_training['date_time_2'] = df_training[['date_time_2','min']].apply(lambda x: x.date_time_2.timedelta(minutes = x.min), axis = 1)"
   ]
  },
  {
   "cell_type": "code",
   "execution_count": 22,
   "metadata": {},
   "outputs": [],
   "source": [
    "df_training['time_in_mins'] = 1440 * df_training['day'] + 60* df_training['hour'] + df_training['min']"
   ]
  },
  {
   "cell_type": "code",
   "execution_count": 23,
   "metadata": {},
   "outputs": [
    {
     "data": {
      "text/html": [
       "<div>\n",
       "<style scoped>\n",
       "    .dataframe tbody tr th:only-of-type {\n",
       "        vertical-align: middle;\n",
       "    }\n",
       "\n",
       "    .dataframe tbody tr th {\n",
       "        vertical-align: top;\n",
       "    }\n",
       "\n",
       "    .dataframe thead th {\n",
       "        text-align: right;\n",
       "    }\n",
       "</style>\n",
       "<table border=\"1\" class=\"dataframe\">\n",
       "  <thead>\n",
       "    <tr style=\"text-align: right;\">\n",
       "      <th></th>\n",
       "      <th>geohash6</th>\n",
       "      <th>day</th>\n",
       "      <th>timestamp</th>\n",
       "      <th>demand</th>\n",
       "      <th>is_weekend</th>\n",
       "      <th>lat</th>\n",
       "      <th>long</th>\n",
       "      <th>hour</th>\n",
       "      <th>min</th>\n",
       "      <th>time_in_mins</th>\n",
       "    </tr>\n",
       "  </thead>\n",
       "  <tbody>\n",
       "    <tr>\n",
       "      <th>2289</th>\n",
       "      <td>qp09sx</td>\n",
       "      <td>1.0</td>\n",
       "      <td>0:0</td>\n",
       "      <td>0.021212</td>\n",
       "      <td>False</td>\n",
       "      <td>-5.320129</td>\n",
       "      <td>90.906372</td>\n",
       "      <td>0.0</td>\n",
       "      <td>0.0</td>\n",
       "      <td>1440.0</td>\n",
       "    </tr>\n",
       "    <tr>\n",
       "      <th>3149</th>\n",
       "      <td>qp0dhg</td>\n",
       "      <td>1.0</td>\n",
       "      <td>0:0</td>\n",
       "      <td>0.013217</td>\n",
       "      <td>False</td>\n",
       "      <td>-5.254211</td>\n",
       "      <td>90.917358</td>\n",
       "      <td>0.0</td>\n",
       "      <td>0.0</td>\n",
       "      <td>1440.0</td>\n",
       "    </tr>\n",
       "    <tr>\n",
       "      <th>11052</th>\n",
       "      <td>qp03x5</td>\n",
       "      <td>1.0</td>\n",
       "      <td>0:0</td>\n",
       "      <td>0.157956</td>\n",
       "      <td>False</td>\n",
       "      <td>-5.342102</td>\n",
       "      <td>90.664673</td>\n",
       "      <td>0.0</td>\n",
       "      <td>0.0</td>\n",
       "      <td>1440.0</td>\n",
       "    </tr>\n",
       "    <tr>\n",
       "      <th>23011</th>\n",
       "      <td>qp09bw</td>\n",
       "      <td>1.0</td>\n",
       "      <td>0:0</td>\n",
       "      <td>0.001262</td>\n",
       "      <td>False</td>\n",
       "      <td>-5.281677</td>\n",
       "      <td>90.730591</td>\n",
       "      <td>0.0</td>\n",
       "      <td>0.0</td>\n",
       "      <td>1440.0</td>\n",
       "    </tr>\n",
       "    <tr>\n",
       "      <th>26180</th>\n",
       "      <td>qp03wn</td>\n",
       "      <td>1.0</td>\n",
       "      <td>0:0</td>\n",
       "      <td>0.032721</td>\n",
       "      <td>False</td>\n",
       "      <td>-5.325623</td>\n",
       "      <td>90.620728</td>\n",
       "      <td>0.0</td>\n",
       "      <td>0.0</td>\n",
       "      <td>1440.0</td>\n",
       "    </tr>\n",
       "  </tbody>\n",
       "</table>\n",
       "</div>"
      ],
      "text/plain": [
       "      geohash6  day timestamp    demand  is_weekend       lat       long  \\\n",
       "2289    qp09sx  1.0       0:0  0.021212       False -5.320129  90.906372   \n",
       "3149    qp0dhg  1.0       0:0  0.013217       False -5.254211  90.917358   \n",
       "11052   qp03x5  1.0       0:0  0.157956       False -5.342102  90.664673   \n",
       "23011   qp09bw  1.0       0:0  0.001262       False -5.281677  90.730591   \n",
       "26180   qp03wn  1.0       0:0  0.032721       False -5.325623  90.620728   \n",
       "\n",
       "       hour  min  time_in_mins  \n",
       "2289    0.0  0.0        1440.0  \n",
       "3149    0.0  0.0        1440.0  \n",
       "11052   0.0  0.0        1440.0  \n",
       "23011   0.0  0.0        1440.0  \n",
       "26180   0.0  0.0        1440.0  "
      ]
     },
     "execution_count": 23,
     "metadata": {},
     "output_type": "execute_result"
    }
   ],
   "source": [
    "df_training.sort_values(['day','hour','min'], ascending = True).head()"
   ]
  },
  {
   "cell_type": "markdown",
   "metadata": {},
   "source": [
    "## Building a 2-degree hash of nodes connected to one another identifying geohash6 on top/bottom/left/right to each other"
   ]
  },
  {
   "cell_type": "code",
   "execution_count": 27,
   "metadata": {},
   "outputs": [],
   "source": [
    "long_list = pd.DataFrame(np.sort(df_training['long'].unique())).reset_index()\n",
    "long_list.columns = ['long_rank','long']"
   ]
  },
  {
   "cell_type": "code",
   "execution_count": 28,
   "metadata": {},
   "outputs": [],
   "source": [
    "lat_list = pd.DataFrame(np.sort(df_training['lat'].unique())).reset_index()\n",
    "lat_list.columns = ['lat_rank','lat']"
   ]
  },
  {
   "cell_type": "code",
   "execution_count": 29,
   "metadata": {},
   "outputs": [],
   "source": [
    "df_training = pd.merge(left = df_training,\n",
    "                      right = lat_list,\n",
    "                      how = 'left',\n",
    "                      left_on='lat',\n",
    "                      right_on='lat')"
   ]
  },
  {
   "cell_type": "code",
   "execution_count": 30,
   "metadata": {},
   "outputs": [],
   "source": [
    "df_training = pd.merge(left = df_training,\n",
    "                      right = long_list,\n",
    "                      how = 'left',\n",
    "                      left_on='long',\n",
    "                      right_on='long')"
   ]
  },
  {
   "cell_type": "code",
   "execution_count": 31,
   "metadata": {},
   "outputs": [],
   "source": [
    "df_training.columns = ['geohash6', 'day', 'timestamp', 'demand', 'is_weekend', 'lat', 'long',\n",
    "       'hour', 'min', 'time_in_mins', 'lat_rank', 'long_rank']"
   ]
  },
  {
   "cell_type": "code",
   "execution_count": 32,
   "metadata": {},
   "outputs": [
    {
     "data": {
      "text/html": [
       "<div>\n",
       "<style scoped>\n",
       "    .dataframe tbody tr th:only-of-type {\n",
       "        vertical-align: middle;\n",
       "    }\n",
       "\n",
       "    .dataframe tbody tr th {\n",
       "        vertical-align: top;\n",
       "    }\n",
       "\n",
       "    .dataframe thead th {\n",
       "        text-align: right;\n",
       "    }\n",
       "</style>\n",
       "<table border=\"1\" class=\"dataframe\">\n",
       "  <thead>\n",
       "    <tr style=\"text-align: right;\">\n",
       "      <th></th>\n",
       "      <th>geohash6</th>\n",
       "      <th>day</th>\n",
       "      <th>timestamp</th>\n",
       "      <th>demand</th>\n",
       "      <th>is_weekend</th>\n",
       "      <th>lat</th>\n",
       "      <th>long</th>\n",
       "      <th>hour</th>\n",
       "      <th>min</th>\n",
       "      <th>time_in_mins</th>\n",
       "      <th>lat_rank</th>\n",
       "      <th>long_rank</th>\n",
       "    </tr>\n",
       "  </thead>\n",
       "  <tbody>\n",
       "    <tr>\n",
       "      <th>0</th>\n",
       "      <td>qp03wc</td>\n",
       "      <td>18.0</td>\n",
       "      <td>20:0</td>\n",
       "      <td>0.020072</td>\n",
       "      <td>False</td>\n",
       "      <td>-5.353088</td>\n",
       "      <td>90.653687</td>\n",
       "      <td>20.0</td>\n",
       "      <td>0.0</td>\n",
       "      <td>27120.0</td>\n",
       "      <td>24</td>\n",
       "      <td>6</td>\n",
       "    </tr>\n",
       "    <tr>\n",
       "      <th>1</th>\n",
       "      <td>qp03pn</td>\n",
       "      <td>10.0</td>\n",
       "      <td>14:30</td>\n",
       "      <td>0.024721</td>\n",
       "      <td>False</td>\n",
       "      <td>-5.413513</td>\n",
       "      <td>90.664673</td>\n",
       "      <td>14.0</td>\n",
       "      <td>30.0</td>\n",
       "      <td>15270.0</td>\n",
       "      <td>13</td>\n",
       "      <td>7</td>\n",
       "    </tr>\n",
       "    <tr>\n",
       "      <th>2</th>\n",
       "      <td>qp09sw</td>\n",
       "      <td>9.0</td>\n",
       "      <td>6:15</td>\n",
       "      <td>0.102821</td>\n",
       "      <td>False</td>\n",
       "      <td>-5.325623</td>\n",
       "      <td>90.906372</td>\n",
       "      <td>6.0</td>\n",
       "      <td>15.0</td>\n",
       "      <td>13335.0</td>\n",
       "      <td>29</td>\n",
       "      <td>29</td>\n",
       "    </tr>\n",
       "    <tr>\n",
       "      <th>3</th>\n",
       "      <td>qp0991</td>\n",
       "      <td>32.0</td>\n",
       "      <td>5:0</td>\n",
       "      <td>0.088755</td>\n",
       "      <td>False</td>\n",
       "      <td>-5.353088</td>\n",
       "      <td>90.752563</td>\n",
       "      <td>5.0</td>\n",
       "      <td>0.0</td>\n",
       "      <td>46380.0</td>\n",
       "      <td>24</td>\n",
       "      <td>15</td>\n",
       "    </tr>\n",
       "    <tr>\n",
       "      <th>4</th>\n",
       "      <td>qp090q</td>\n",
       "      <td>15.0</td>\n",
       "      <td>4:0</td>\n",
       "      <td>0.074468</td>\n",
       "      <td>False</td>\n",
       "      <td>-5.413513</td>\n",
       "      <td>90.719604</td>\n",
       "      <td>4.0</td>\n",
       "      <td>0.0</td>\n",
       "      <td>21840.0</td>\n",
       "      <td>13</td>\n",
       "      <td>12</td>\n",
       "    </tr>\n",
       "  </tbody>\n",
       "</table>\n",
       "</div>"
      ],
      "text/plain": [
       "  geohash6   day timestamp    demand  is_weekend       lat       long  hour  \\\n",
       "0   qp03wc  18.0      20:0  0.020072       False -5.353088  90.653687  20.0   \n",
       "1   qp03pn  10.0     14:30  0.024721       False -5.413513  90.664673  14.0   \n",
       "2   qp09sw   9.0      6:15  0.102821       False -5.325623  90.906372   6.0   \n",
       "3   qp0991  32.0       5:0  0.088755       False -5.353088  90.752563   5.0   \n",
       "4   qp090q  15.0       4:0  0.074468       False -5.413513  90.719604   4.0   \n",
       "\n",
       "    min  time_in_mins  lat_rank  long_rank  \n",
       "0   0.0       27120.0        24          6  \n",
       "1  30.0       15270.0        13          7  \n",
       "2  15.0       13335.0        29         29  \n",
       "3   0.0       46380.0        24         15  \n",
       "4   0.0       21840.0        13         12  "
      ]
     },
     "execution_count": 32,
     "metadata": {},
     "output_type": "execute_result"
    }
   ],
   "source": [
    "df_training.head()"
   ]
  },
  {
   "cell_type": "code",
   "execution_count": 33,
   "metadata": {},
   "outputs": [],
   "source": [
    "df_training_temp = df_training.drop(['lat','long','day','hour','min','timestamp'], axis = 1)"
   ]
  },
  {
   "cell_type": "code",
   "execution_count": 34,
   "metadata": {},
   "outputs": [
    {
     "data": {
      "text/plain": [
       "(4206321, 6)"
      ]
     },
     "execution_count": 34,
     "metadata": {},
     "output_type": "execute_result"
    }
   ],
   "source": [
    "df_training_temp.shape"
   ]
  },
  {
   "cell_type": "code",
   "execution_count": 35,
   "metadata": {},
   "outputs": [
    {
     "data": {
      "text/html": [
       "<div>\n",
       "<style scoped>\n",
       "    .dataframe tbody tr th:only-of-type {\n",
       "        vertical-align: middle;\n",
       "    }\n",
       "\n",
       "    .dataframe tbody tr th {\n",
       "        vertical-align: top;\n",
       "    }\n",
       "\n",
       "    .dataframe thead th {\n",
       "        text-align: right;\n",
       "    }\n",
       "</style>\n",
       "<table border=\"1\" class=\"dataframe\">\n",
       "  <thead>\n",
       "    <tr style=\"text-align: right;\">\n",
       "      <th></th>\n",
       "      <th>geohash6</th>\n",
       "      <th>demand</th>\n",
       "      <th>is_weekend</th>\n",
       "      <th>time_in_mins</th>\n",
       "      <th>lat_rank</th>\n",
       "      <th>long_rank</th>\n",
       "    </tr>\n",
       "  </thead>\n",
       "  <tbody>\n",
       "    <tr>\n",
       "      <th>0</th>\n",
       "      <td>qp03wc</td>\n",
       "      <td>0.020072</td>\n",
       "      <td>False</td>\n",
       "      <td>27120.0</td>\n",
       "      <td>24</td>\n",
       "      <td>6</td>\n",
       "    </tr>\n",
       "    <tr>\n",
       "      <th>1</th>\n",
       "      <td>qp03pn</td>\n",
       "      <td>0.024721</td>\n",
       "      <td>False</td>\n",
       "      <td>15270.0</td>\n",
       "      <td>13</td>\n",
       "      <td>7</td>\n",
       "    </tr>\n",
       "    <tr>\n",
       "      <th>2</th>\n",
       "      <td>qp09sw</td>\n",
       "      <td>0.102821</td>\n",
       "      <td>False</td>\n",
       "      <td>13335.0</td>\n",
       "      <td>29</td>\n",
       "      <td>29</td>\n",
       "    </tr>\n",
       "    <tr>\n",
       "      <th>3</th>\n",
       "      <td>qp0991</td>\n",
       "      <td>0.088755</td>\n",
       "      <td>False</td>\n",
       "      <td>46380.0</td>\n",
       "      <td>24</td>\n",
       "      <td>15</td>\n",
       "    </tr>\n",
       "    <tr>\n",
       "      <th>4</th>\n",
       "      <td>qp090q</td>\n",
       "      <td>0.074468</td>\n",
       "      <td>False</td>\n",
       "      <td>21840.0</td>\n",
       "      <td>13</td>\n",
       "      <td>12</td>\n",
       "    </tr>\n",
       "  </tbody>\n",
       "</table>\n",
       "</div>"
      ],
      "text/plain": [
       "  geohash6    demand  is_weekend  time_in_mins  lat_rank  long_rank\n",
       "0   qp03wc  0.020072       False       27120.0        24          6\n",
       "1   qp03pn  0.024721       False       15270.0        13          7\n",
       "2   qp09sw  0.102821       False       13335.0        29         29\n",
       "3   qp0991  0.088755       False       46380.0        24         15\n",
       "4   qp090q  0.074468       False       21840.0        13         12"
      ]
     },
     "execution_count": 35,
     "metadata": {},
     "output_type": "execute_result"
    }
   ],
   "source": [
    "df_training_temp.head()"
   ]
  },
  {
   "cell_type": "code",
   "execution_count": 36,
   "metadata": {},
   "outputs": [
    {
     "data": {
      "text/html": [
       "<div>\n",
       "<style scoped>\n",
       "    .dataframe tbody tr th:only-of-type {\n",
       "        vertical-align: middle;\n",
       "    }\n",
       "\n",
       "    .dataframe tbody tr th {\n",
       "        vertical-align: top;\n",
       "    }\n",
       "\n",
       "    .dataframe thead th {\n",
       "        text-align: right;\n",
       "    }\n",
       "</style>\n",
       "<table border=\"1\" class=\"dataframe\">\n",
       "  <thead>\n",
       "    <tr style=\"text-align: right;\">\n",
       "      <th></th>\n",
       "      <th>lat_rank</th>\n",
       "      <th>long_rank</th>\n",
       "    </tr>\n",
       "  </thead>\n",
       "  <tbody>\n",
       "    <tr>\n",
       "      <th>count</th>\n",
       "      <td>4206321</td>\n",
       "      <td>4206321</td>\n",
       "    </tr>\n",
       "    <tr>\n",
       "      <th>mean</th>\n",
       "      <td>25</td>\n",
       "      <td>16</td>\n",
       "    </tr>\n",
       "    <tr>\n",
       "      <th>std</th>\n",
       "      <td>10</td>\n",
       "      <td>9</td>\n",
       "    </tr>\n",
       "    <tr>\n",
       "      <th>min</th>\n",
       "      <td>0</td>\n",
       "      <td>0</td>\n",
       "    </tr>\n",
       "    <tr>\n",
       "      <th>25%</th>\n",
       "      <td>17</td>\n",
       "      <td>8</td>\n",
       "    </tr>\n",
       "    <tr>\n",
       "      <th>50%</th>\n",
       "      <td>25</td>\n",
       "      <td>15</td>\n",
       "    </tr>\n",
       "    <tr>\n",
       "      <th>75%</th>\n",
       "      <td>33</td>\n",
       "      <td>24</td>\n",
       "    </tr>\n",
       "    <tr>\n",
       "      <th>max</th>\n",
       "      <td>45</td>\n",
       "      <td>35</td>\n",
       "    </tr>\n",
       "  </tbody>\n",
       "</table>\n",
       "</div>"
      ],
      "text/plain": [
       "       lat_rank  long_rank\n",
       "count   4206321    4206321\n",
       "mean         25         16\n",
       "std          10          9\n",
       "min           0          0\n",
       "25%          17          8\n",
       "50%          25         15\n",
       "75%          33         24\n",
       "max          45         35"
      ]
     },
     "execution_count": 36,
     "metadata": {},
     "output_type": "execute_result"
    }
   ],
   "source": [
    "df_training_temp[['lat_rank','long_rank']].describe().astype('int')"
   ]
  },
  {
   "cell_type": "code",
   "execution_count": 37,
   "metadata": {},
   "outputs": [],
   "source": [
    "geo_grid = df_training_temp[['geohash6','lat_rank','long_rank']].drop_duplicates()"
   ]
  },
  {
   "cell_type": "code",
   "execution_count": 38,
   "metadata": {},
   "outputs": [],
   "source": [
    "geo_grid['lat_long_rank_key'] = geo_grid['lat_rank'].astype('str') + \"+\"+geo_grid['long_rank'].astype('str')"
   ]
  },
  {
   "cell_type": "code",
   "execution_count": 39,
   "metadata": {},
   "outputs": [
    {
     "data": {
      "text/html": [
       "<div>\n",
       "<style scoped>\n",
       "    .dataframe tbody tr th:only-of-type {\n",
       "        vertical-align: middle;\n",
       "    }\n",
       "\n",
       "    .dataframe tbody tr th {\n",
       "        vertical-align: top;\n",
       "    }\n",
       "\n",
       "    .dataframe thead th {\n",
       "        text-align: right;\n",
       "    }\n",
       "</style>\n",
       "<table border=\"1\" class=\"dataframe\">\n",
       "  <thead>\n",
       "    <tr style=\"text-align: right;\">\n",
       "      <th></th>\n",
       "      <th>geohash6</th>\n",
       "      <th>lat_rank</th>\n",
       "      <th>long_rank</th>\n",
       "      <th>lat_long_rank_key</th>\n",
       "    </tr>\n",
       "  </thead>\n",
       "  <tbody>\n",
       "    <tr>\n",
       "      <th>0</th>\n",
       "      <td>qp03wc</td>\n",
       "      <td>24</td>\n",
       "      <td>6</td>\n",
       "      <td>24+6</td>\n",
       "    </tr>\n",
       "    <tr>\n",
       "      <th>1</th>\n",
       "      <td>qp03pn</td>\n",
       "      <td>13</td>\n",
       "      <td>7</td>\n",
       "      <td>13+7</td>\n",
       "    </tr>\n",
       "    <tr>\n",
       "      <th>2</th>\n",
       "      <td>qp09sw</td>\n",
       "      <td>29</td>\n",
       "      <td>29</td>\n",
       "      <td>29+29</td>\n",
       "    </tr>\n",
       "    <tr>\n",
       "      <th>3</th>\n",
       "      <td>qp0991</td>\n",
       "      <td>24</td>\n",
       "      <td>15</td>\n",
       "      <td>24+15</td>\n",
       "    </tr>\n",
       "    <tr>\n",
       "      <th>4</th>\n",
       "      <td>qp090q</td>\n",
       "      <td>13</td>\n",
       "      <td>12</td>\n",
       "      <td>13+12</td>\n",
       "    </tr>\n",
       "  </tbody>\n",
       "</table>\n",
       "</div>"
      ],
      "text/plain": [
       "  geohash6  lat_rank  long_rank lat_long_rank_key\n",
       "0   qp03wc        24          6              24+6\n",
       "1   qp03pn        13          7              13+7\n",
       "2   qp09sw        29         29             29+29\n",
       "3   qp0991        24         15             24+15\n",
       "4   qp090q        13         12             13+12"
      ]
     },
     "execution_count": 39,
     "metadata": {},
     "output_type": "execute_result"
    }
   ],
   "source": [
    "geo_grid.head()"
   ]
  },
  {
   "cell_type": "code",
   "execution_count": 40,
   "metadata": {},
   "outputs": [],
   "source": [
    "geo_grid['top'] = geo_grid['long_rank'].apply(lambda x: 0 if x in([0,35]) else 1)\n",
    "geo_grid['bottom'] = geo_grid['long_rank'].apply(lambda x: 0 if x in([0,35]) else 1)\n",
    "geo_grid['left'] = geo_grid['lat_rank'].apply(lambda x: 0 if x in([0,35]) else 1)\n",
    "geo_grid['right'] = geo_grid['lat_rank'].apply(lambda x: 0 if x in([0,45]) else 1)"
   ]
  },
  {
   "cell_type": "markdown",
   "metadata": {},
   "source": [
    "## Assuming a grid based on lat-long.\n",
    "### Latitude - Left to right and Longitude - Top to bottom"
   ]
  },
  {
   "cell_type": "code",
   "execution_count": 41,
   "metadata": {},
   "outputs": [],
   "source": [
    "geo_grid.reset_index(inplace = True)"
   ]
  },
  {
   "cell_type": "code",
   "execution_count": 42,
   "metadata": {},
   "outputs": [],
   "source": [
    "# for i in range(geo_grid.shape[0]):\n",
    "for i in range(geo_grid.shape[0]):\n",
    "    lat_rank = geo_grid.loc[i,'lat_rank']\n",
    "    long_rank = geo_grid.loc[i,'long_rank']\n",
    "    ## updating the top of a cell\n",
    "    if geo_grid.loc[i,'top'] ==1:\n",
    "        try:\n",
    "            long_rank_update_t = long_rank + 1\n",
    "            top_rank = lat_rank.astype('str') + \"+\" +long_rank_update_t.astype('str')\n",
    "            geo_top = np.array(geo_grid[geo_grid['lat_long_rank_key']==top_rank]['geohash6'])\n",
    "            geo_grid.loc[i,'top'] = geo_top[0]\n",
    "        except:\n",
    "            geo_grid.loc[i,'top'] = 0\n",
    "    if geo_grid.loc[i,'bottom'] ==1:\n",
    "        try:\n",
    "            long_rank_update_b = long_rank - 1\n",
    "            bottom_rank = lat_rank.astype('str') + \"+\" +long_rank_update_b.astype('str')\n",
    "            geo_bottom = np.array(geo_grid[geo_grid['lat_long_rank_key']==bottom_rank]['geohash6'])\n",
    "            geo_grid.loc[i,'bottom'] = geo_bottom[0]\n",
    "        except:\n",
    "            geo_grid.loc[i,'bottom'] = 0\n",
    "    if geo_grid.loc[i,'left'] ==1:\n",
    "        try:\n",
    "            lat_rank_update_l = lat_rank - 1\n",
    "            left_rank = lat_rank_update_l.astype('str') + \"+\" +long_rank.astype('str')\n",
    "            geo_left = np.array(geo_grid[geo_grid['lat_long_rank_key']==left_rank]['geohash6'])\n",
    "            geo_grid.loc[i,'left'] = geo_left[0]\n",
    "        except:\n",
    "            geo_grid.loc[i,'left'] = 0\n",
    "    if geo_grid.loc[i,'right'] ==1:\n",
    "        try:\n",
    "            lat_rank_update_r = long_rank - 1\n",
    "            right_rank = lat_rank_update_r.astype('str') + \"+\" +long_rank.astype('str')\n",
    "            geo_right = np.array(geo_grid[geo_grid['lat_long_rank_key']==right_rank]['geohash6'])\n",
    "            geo_grid.loc[i,'right'] = geo_right[0]\n",
    "        except:\n",
    "            geo_grid.loc[i,'right'] = 0"
   ]
  },
  {
   "cell_type": "code",
   "execution_count": 43,
   "metadata": {},
   "outputs": [
    {
     "data": {
      "text/html": [
       "<div>\n",
       "<style scoped>\n",
       "    .dataframe tbody tr th:only-of-type {\n",
       "        vertical-align: middle;\n",
       "    }\n",
       "\n",
       "    .dataframe tbody tr th {\n",
       "        vertical-align: top;\n",
       "    }\n",
       "\n",
       "    .dataframe thead th {\n",
       "        text-align: right;\n",
       "    }\n",
       "</style>\n",
       "<table border=\"1\" class=\"dataframe\">\n",
       "  <thead>\n",
       "    <tr style=\"text-align: right;\">\n",
       "      <th></th>\n",
       "      <th>index</th>\n",
       "      <th>geohash6</th>\n",
       "      <th>lat_rank</th>\n",
       "      <th>long_rank</th>\n",
       "      <th>lat_long_rank_key</th>\n",
       "      <th>top</th>\n",
       "      <th>bottom</th>\n",
       "      <th>left</th>\n",
       "      <th>right</th>\n",
       "    </tr>\n",
       "  </thead>\n",
       "  <tbody>\n",
       "    <tr>\n",
       "      <th>0</th>\n",
       "      <td>0</td>\n",
       "      <td>qp03wc</td>\n",
       "      <td>24</td>\n",
       "      <td>6</td>\n",
       "      <td>24+6</td>\n",
       "      <td>qp03x1</td>\n",
       "      <td>qp03w9</td>\n",
       "      <td>qp03wb</td>\n",
       "      <td>qp02yy</td>\n",
       "    </tr>\n",
       "    <tr>\n",
       "      <th>1</th>\n",
       "      <td>1</td>\n",
       "      <td>qp03pn</td>\n",
       "      <td>13</td>\n",
       "      <td>7</td>\n",
       "      <td>13+7</td>\n",
       "      <td>qp03pq</td>\n",
       "      <td>qp03ny</td>\n",
       "      <td>qp03pj</td>\n",
       "      <td>qp02zp</td>\n",
       "    </tr>\n",
       "    <tr>\n",
       "      <th>2</th>\n",
       "      <td>2</td>\n",
       "      <td>qp09sw</td>\n",
       "      <td>29</td>\n",
       "      <td>29</td>\n",
       "      <td>29+29</td>\n",
       "      <td>qp09sy</td>\n",
       "      <td>qp09sq</td>\n",
       "      <td>qp09st</td>\n",
       "      <td>qp09st</td>\n",
       "    </tr>\n",
       "    <tr>\n",
       "      <th>3</th>\n",
       "      <td>3</td>\n",
       "      <td>qp0991</td>\n",
       "      <td>24</td>\n",
       "      <td>15</td>\n",
       "      <td>24+15</td>\n",
       "      <td>qp0993</td>\n",
       "      <td>qp098c</td>\n",
       "      <td>qp0990</td>\n",
       "      <td>qp091p</td>\n",
       "    </tr>\n",
       "    <tr>\n",
       "      <th>4</th>\n",
       "      <td>4</td>\n",
       "      <td>qp090q</td>\n",
       "      <td>13</td>\n",
       "      <td>12</td>\n",
       "      <td>13+12</td>\n",
       "      <td>qp090w</td>\n",
       "      <td>qp090n</td>\n",
       "      <td>qp090m</td>\n",
       "      <td>qp090k</td>\n",
       "    </tr>\n",
       "  </tbody>\n",
       "</table>\n",
       "</div>"
      ],
      "text/plain": [
       "   index geohash6  lat_rank  long_rank lat_long_rank_key     top  bottom  \\\n",
       "0      0   qp03wc        24          6              24+6  qp03x1  qp03w9   \n",
       "1      1   qp03pn        13          7              13+7  qp03pq  qp03ny   \n",
       "2      2   qp09sw        29         29             29+29  qp09sy  qp09sq   \n",
       "3      3   qp0991        24         15             24+15  qp0993  qp098c   \n",
       "4      4   qp090q        13         12             13+12  qp090w  qp090n   \n",
       "\n",
       "     left   right  \n",
       "0  qp03wb  qp02yy  \n",
       "1  qp03pj  qp02zp  \n",
       "2  qp09st  qp09st  \n",
       "3  qp0990  qp091p  \n",
       "4  qp090m  qp090k  "
      ]
     },
     "execution_count": 43,
     "metadata": {},
     "output_type": "execute_result"
    }
   ],
   "source": [
    "geo_grid.head()"
   ]
  },
  {
   "cell_type": "markdown",
   "metadata": {},
   "source": [
    "## Predicting for geohash where - minimum of 50 data points are available"
   ]
  },
  {
   "cell_type": "code",
   "execution_count": 47,
   "metadata": {},
   "outputs": [],
   "source": [
    "geohash_list = pd.DataFrame(df_training_temp.geohash6.value_counts()).reset_index()"
   ]
  },
  {
   "cell_type": "code",
   "execution_count": 191,
   "metadata": {},
   "outputs": [],
   "source": [
    "select_geohash = np.array(geohash_list[geohash_list['geohash6'] > 50]['index'].head(3))"
   ]
  },
  {
   "cell_type": "code",
   "execution_count": 195,
   "metadata": {},
   "outputs": [],
   "source": [
    "rmse_rf = []\n",
    "rmse_ARIMA = []\n",
    "rmse_lm = []\n",
    "    \n",
    "for geo__ in select_geohash:\n",
    "    base_df__ = []\n",
    "    \n",
    "\n",
    "    base_df__ = df_training_temp[df_training_temp['geohash6']==geo__][['geohash6', 'demand',\n",
    "                                                                     'is_weekend', 'time_in_mins']]\n",
    "    neighbour_gridpoints = np.array(geo_grid[geo_grid['geohash6']==geo__][['top', 'bottom', 'left', 'right']])\n",
    "    \n",
    "    ##adding the traffic from top of the table\n",
    "    if neighbour_gridpoints[0][0] == 0:\n",
    "        top_df = df_training_temp[df_training_temp['geohash6']==geo__][['time_in_mins','demand']]\n",
    "        top_df['demand'] = 0\n",
    "        top_df.columns = ['time_in_mins','top_grid_demand']\n",
    "    else:\n",
    "        top_df = df_training_temp[df_training_temp['geohash6']==neighbour_gridpoints[0][0]][['demand','time_in_mins']]\n",
    "        top_df.columns = ['top_grid_demand','time_in_mins']\n",
    "    \n",
    "    base_df__ = pd.merge(left = base_df__,\n",
    "                        right=top_df,\n",
    "                        how = 'left',\n",
    "                        left_on='time_in_mins',\n",
    "                        right_on = 'time_in_mins')\n",
    "    \n",
    "    ##adding the traffic from bottom of the table\n",
    "    if neighbour_gridpoints[0][1] == 0:\n",
    "        \n",
    "        bottom_df = df_training_temp[df_training_temp['geohash6']==geo__][['time_in_mins','demand']]\n",
    "        bottom_df['demand'] = 0\n",
    "        bottom_df.columns = ['time_in_mins','bottom_grid_demand']\n",
    "    else:\n",
    "        bottom_df = df_training_temp[df_training_temp['geohash6']==neighbour_gridpoints[0][1]][['demand','time_in_mins']]\n",
    "        bottom_df.columns = ['bottom_grid_demand','time_in_mins']\n",
    "    \n",
    "    base_df__ = pd.merge(left = base_df__,\n",
    "                        right=bottom_df,\n",
    "                        how = 'left',\n",
    "                        left_on='time_in_mins',\n",
    "                        right_on = 'time_in_mins')\n",
    "    \n",
    "    ##adding the traffic from left of the point\n",
    "    if neighbour_gridpoints[0][2] == 0:\n",
    "        left_df = df_training_temp[df_training_temp['geohash6']==geo__][['time_in_mins','demand']]\n",
    "        left_df['demand'] = 0\n",
    "        left_df.columns = ['time_in_mins','left_grid_demand']\n",
    "    else:\n",
    "        left_df = df_training_temp[df_training_temp['geohash6']==neighbour_gridpoints[0][2]][['demand','time_in_mins']]\n",
    "        left_df.columns = ['left_grid_demand','time_in_mins']\n",
    "    \n",
    "    base_df__ = pd.merge(left = base_df__,\n",
    "                        right=left_df,\n",
    "                        how = 'left',\n",
    "                        left_on='time_in_mins',\n",
    "                        right_on = 'time_in_mins')\n",
    "\n",
    "    ##adding the traffic from right of the point\n",
    "    if neighbour_gridpoints[0][3] == 0:\n",
    "#         print(neighbour_gridpoints[0][3])\n",
    "        right_df = df_training_temp[df_training_temp['geohash6']==geo__][['time_in_mins','demand']]\n",
    "        right_df['demand'] = 0\n",
    "        right_df.columns = ['time_in_mins','right_grid_demand']\n",
    "#         print(right_df.right_grid_demand.sum())\n",
    "    else:\n",
    "        right_df = df_training_temp[df_training_temp['geohash6']==neighbour_gridpoints[0][3]][['demand','time_in_mins']]\n",
    "        right_df.columns = ['right_grid_demand','time_in_mins']\n",
    "#         print(neighbour_gridpoints[0][3], right_df.right_grid_demand.sum())\n",
    "    \n",
    "    base_df__ = pd.merge(left = base_df__,\n",
    "                        right=right_df,\n",
    "                        how = 'left',\n",
    "                        left_on='time_in_mins',\n",
    "                        right_on = 'time_in_mins')    \n",
    "    \n",
    "    base_df__.fillna(0, inplace = True)\n",
    "    base_df__.sort_values(['time_in_mins'], inplace = True, ascending = True)\n",
    "    base_df__.reset_index(inplace = True)\n",
    "    base_df__['top_grid_demand'] = base_df__['top_grid_demand'].shift(-1)\n",
    "    base_df__['bottom_grid_demand'] = base_df__['bottom_grid_demand'].shift(-1)\n",
    "    base_df__['left_grid_demand'] = base_df__['left_grid_demand'].shift(-1)\n",
    "    base_df__['right_grid_demand'] = base_df__['right_grid_demand'].shift(-1)\n",
    "    base_df__.dropna(inplace = True)\n",
    "    \n",
    "#     arima_df = base_df__.set_index('time_in_mins')\n",
    "    \n",
    "    base_df__.drop(['index'],axis = 1, inplace = True)\n",
    "    number_rows = base_df__.shape[0]\n",
    "    train_size = int(number_rows*0.7)\n",
    "    test_size = number_rows-train_size\n",
    "    X = base_df__[['is_weekend', 'time_in_mins', 'top_grid_demand',\n",
    "       'bottom_grid_demand', 'left_grid_demand', 'right_grid_demand']]\n",
    "    y = base_df__['demand']\n",
    "    X_train = X.iloc[:train_size-1,]\n",
    "    X_test = X.iloc[train_size:,]\n",
    "    y_train = y.iloc[:train_size-1,]\n",
    "    y_test = y.iloc[train_size:,]\n",
    "    regr_1 = DecisionTreeRegressor()\n",
    "    regr_1.fit(X_train,y_train)\n",
    "    y_1 = regr_1.predict(X_test)\n",
    "    rmse_rf = np.append(rmse_rf, mean_squared_error(y_test, y_1))\n",
    "    \n",
    "    lm = LinearRegression()\n",
    "    lm.fit(X_train,y_train)\n",
    "    y_2 = lm.predict(X_test)\n",
    "    rmse_lm = np.append(rmse_lm, mean_squared_error(y_test,y_2))\n",
    "    \n",
    "#     ARIMA Model\n",
    "    try:\n",
    "        arima_df = base_df__[['demand','time_in_mins']]\n",
    "        arima_df = arima_df.sort_values('time_in_mins', ascending = True)\n",
    "        arima_df = arima_df.set_index('time_in_mins')\n",
    "\n",
    "        train = arima_df.iloc[:train_size]\n",
    "        test = arima_df.iloc[train_size:]\n",
    "        model_arima = ARIMA(train,order=(10, 2, 1))\n",
    "        model_arima_fit = model_arima.fit()\n",
    "        predictions= model_arima_fit.forecast(steps=test_size)[0]\n",
    "        rmse_ARIMA = np.append(rmse_ARIMA,mean_squared_error(test,predictions))\n",
    "    except:\n",
    "        next"
   ]
  },
  {
   "cell_type": "code",
   "execution_count": 196,
   "metadata": {},
   "outputs": [
    {
     "data": {
      "text/plain": [
       "0.02152036155587761"
      ]
     },
     "execution_count": 196,
     "metadata": {},
     "output_type": "execute_result"
    }
   ],
   "source": [
    "np.average(rmse_rf)"
   ]
  },
  {
   "cell_type": "code",
   "execution_count": 197,
   "metadata": {},
   "outputs": [
    {
     "data": {
      "text/plain": [
       "0.026441914144261183"
      ]
     },
     "execution_count": 197,
     "metadata": {},
     "output_type": "execute_result"
    }
   ],
   "source": [
    "np.average(rmse_lm)"
   ]
  },
  {
   "cell_type": "code",
   "execution_count": 198,
   "metadata": {},
   "outputs": [
    {
     "data": {
      "text/plain": [
       "7.551459872293753"
      ]
     },
     "execution_count": 198,
     "metadata": {},
     "output_type": "execute_result"
    }
   ],
   "source": [
    "np.average(rmse_ARIMA)"
   ]
  },
  {
   "cell_type": "markdown",
   "metadata": {},
   "source": [
    "### Using ARIMA to predict single dataframe"
   ]
  },
  {
   "cell_type": "code",
   "execution_count": 176,
   "metadata": {},
   "outputs": [],
   "source": [
    "arima_df = base_df__[['demand','time_in_mins']]"
   ]
  },
  {
   "cell_type": "code",
   "execution_count": 177,
   "metadata": {},
   "outputs": [],
   "source": [
    "arima_df = arima_df.sort_values('time_in_mins', ascending = True)"
   ]
  },
  {
   "cell_type": "code",
   "execution_count": 178,
   "metadata": {},
   "outputs": [],
   "source": [
    "arima_df = arima_df.set_index('time_in_mins')"
   ]
  },
  {
   "cell_type": "code",
   "execution_count": 179,
   "metadata": {},
   "outputs": [
    {
     "data": {
      "text/html": [
       "<div>\n",
       "<style scoped>\n",
       "    .dataframe tbody tr th:only-of-type {\n",
       "        vertical-align: middle;\n",
       "    }\n",
       "\n",
       "    .dataframe tbody tr th {\n",
       "        vertical-align: top;\n",
       "    }\n",
       "\n",
       "    .dataframe thead th {\n",
       "        text-align: right;\n",
       "    }\n",
       "</style>\n",
       "<table border=\"1\" class=\"dataframe\">\n",
       "  <thead>\n",
       "    <tr style=\"text-align: right;\">\n",
       "      <th></th>\n",
       "      <th>demand</th>\n",
       "    </tr>\n",
       "    <tr>\n",
       "      <th>time_in_mins</th>\n",
       "      <th></th>\n",
       "    </tr>\n",
       "  </thead>\n",
       "  <tbody>\n",
       "    <tr>\n",
       "      <th>3360.0</th>\n",
       "      <td>0.005135</td>\n",
       "    </tr>\n",
       "    <tr>\n",
       "      <th>3480.0</th>\n",
       "      <td>0.018150</td>\n",
       "    </tr>\n",
       "    <tr>\n",
       "      <th>6165.0</th>\n",
       "      <td>0.003565</td>\n",
       "    </tr>\n",
       "    <tr>\n",
       "      <th>6375.0</th>\n",
       "      <td>0.002206</td>\n",
       "    </tr>\n",
       "    <tr>\n",
       "      <th>12210.0</th>\n",
       "      <td>0.000382</td>\n",
       "    </tr>\n",
       "  </tbody>\n",
       "</table>\n",
       "</div>"
      ],
      "text/plain": [
       "                demand\n",
       "time_in_mins          \n",
       "3360.0        0.005135\n",
       "3480.0        0.018150\n",
       "6165.0        0.003565\n",
       "6375.0        0.002206\n",
       "12210.0       0.000382"
      ]
     },
     "execution_count": 179,
     "metadata": {},
     "output_type": "execute_result"
    }
   ],
   "source": [
    "arima_df.head()"
   ]
  },
  {
   "cell_type": "code",
   "execution_count": 180,
   "metadata": {},
   "outputs": [
    {
     "data": {
      "text/plain": [
       "<matplotlib.axes._subplots.AxesSubplot at 0x1c33aa9ba8>"
      ]
     },
     "execution_count": 180,
     "metadata": {},
     "output_type": "execute_result"
    },
    {
     "data": {
      "image/png": "[encoded data removed]",
      "text/plain": [
       "<Figure size 432x288 with 1 Axes>"
      ]
     },
     "metadata": {
      "needs_background": "light"
     },
     "output_type": "display_data"
    }
   ],
   "source": [
    "arima_df.plot()"
   ]
  },
  {
   "cell_type": "code",
   "execution_count": 181,
   "metadata": {},
   "outputs": [
    {
     "data": {
      "image/png": "[encoded data removed]",
      "text/plain": [
       "<Figure size 432x288 with 1 Axes>"
      ]
     },
     "execution_count": 181,
     "metadata": {},
     "output_type": "execute_result"
    },
    {
     "data": {
      "image/png": "[encoded data removed]",
      "text/plain": [
       "<Figure size 432x288 with 1 Axes>"
      ]
     },
     "metadata": {
      "needs_background": "light"
     },
     "output_type": "display_data"
    }
   ],
   "source": [
    "plot_acf(arima_df)"
   ]
  },
  {
   "cell_type": "code",
   "execution_count": 182,
   "metadata": {},
   "outputs": [],
   "source": [
    "len__ = arima_df.shape[0]"
   ]
  },
  {
   "cell_type": "code",
   "execution_count": 183,
   "metadata": {},
   "outputs": [],
   "source": [
    "train_size = int(len__*0.7)\n",
    "test_size = len__- train_size"
   ]
  },
  {
   "cell_type": "code",
   "execution_count": 184,
   "metadata": {},
   "outputs": [],
   "source": [
    "train = arima_df.iloc[:train_size]\n",
    "test = arima_df.iloc[train_size:]"
   ]
  },
  {
   "cell_type": "code",
   "execution_count": 188,
   "metadata": {},
   "outputs": [],
   "source": [
    "model_arima = ARIMA(train,order=(10, 2, 1))\n",
    "model_arima_fit = model_ar.fit()"
   ]
  },
  {
   "cell_type": "code",
   "execution_count": 189,
   "metadata": {},
   "outputs": [
    {
     "data": {
      "text/plain": [
       "(17,)"
      ]
     },
     "execution_count": 189,
     "metadata": {},
     "output_type": "execute_result"
    }
   ],
   "source": [
    "predictions= model_arima_fit.forecast(steps=test_size)[0]\n",
    "# predictions.shape"
   ]
  },
  {
   "cell_type": "code",
   "execution_count": 190,
   "metadata": {},
   "outputs": [
    {
     "data": {
      "text/plain": [
       "0.0011487444583591383"
      ]
     },
     "execution_count": 190,
     "metadata": {},
     "output_type": "execute_result"
    }
   ],
   "source": [
    "mean_squared_error(test,predictions)"
   ]
  }
 ],
 "metadata": {
  "kernelspec": {
   "display_name": "Python 3",
   "language": "python",
   "name": "python3"
  },
  "language_info": {
   "codemirror_mode": {
    "name": "ipython",
    "version": 3
   },
   "file_extension": ".py",
   "mimetype": "text/x-python",
   "name": "python",
   "nbconvert_exporter": "python",
   "pygments_lexer": "ipython3",
   "version": "3.7.3"
  }
 },
 "nbformat": 4,
 "nbformat_minor": 2
}
